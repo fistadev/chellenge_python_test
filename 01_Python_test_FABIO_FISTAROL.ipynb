{
 "cells": [
  {
   "cell_type": "markdown",
   "metadata": {},
   "source": [
    "# Strive - Challenge"
   ]
  },
  {
   "cell_type": "markdown",
   "metadata": {},
   "source": [
    "## Task 1"
   ]
  },
  {
   "cell_type": "code",
   "execution_count": 1,
   "metadata": {
    "scrolled": true
   },
   "outputs": [
    {
     "name": "stdout",
     "output_type": "stream",
     "text": [
      "\n"
     ]
    }
   ],
   "source": [
    "def cashier(coins):\n",
    "    \n",
    "    coins = {\n",
    "        'dollars': dollars_count,\n",
    "        'quarters': quarters_count,\n",
    "        'dimes': dimes_count,\n",
    "        'nickels': nickels_count,\n",
    "        'pennies': pennies_count\n",
    "    }\n",
    "output = ''\n",
    "# for cash in cashier:\n",
    "#     output = int(amount)\n",
    "print(output)\n",
    "    "
   ]
  },
  {
   "cell_type": "markdown",
   "metadata": {},
   "source": [
    "## Task 2"
   ]
  },
  {
   "cell_type": "code",
   "execution_count": null,
   "metadata": {},
   "outputs": [],
   "source": [
    "def convert_grades(grade):\n",
    "    if type(grade) == str:\n",
    "        return 'Not valid'\n",
    "    elif grade >= 5.5 and grade <= 6:\n",
    "        return 'D'\n",
    "    elif grade >= 6.5 and grade <= 7:\n",
    "        return 'C'\n",
    "    elif grade >= 6.5 and grade <= 8:\n",
    "        return 'B'\n",
    "    elif grade >= 8.5 and grade <= 10:\n",
    "        return 'A'\n",
    "    else:\n",
    "        return 'F'\n",
    "\n",
    "print(convert_grades('ten'))\n"
   ]
  },
  {
   "cell_type": "markdown",
   "metadata": {},
   "source": [
    "## Task 3"
   ]
  },
  {
   "cell_type": "code",
   "execution_count": null,
   "metadata": {},
   "outputs": [],
   "source": [
    "phrase = input(\"please add a word or phrase: \")\n",
    "\n",
    "def count_vowels(word):\n",
    "    total_vowels = 0\n",
    "    for vowel in word:\n",
    "        if vowel in \"aAeEiIoOuU\":\n",
    "            total_vowels = total_vowels + 1\n",
    "    return total_vowels\n",
    "\n",
    "\n",
    "vowel = {\n",
    "    'a': 'a',\n",
    "    'e': 'e',\n",
    "    'i': 'i',\n",
    "    'o': 'o',\n",
    "    'u': 'u',\n",
    "}\n",
    "\n",
    "output_vowel = ''\n",
    "for ch in phrase:\n",
    "    output_vowel += vowel.get(ch, '')\n",
    "\n",
    "\n",
    "print(count_vowels(phrase))\n",
    "print(output_vowel)\n",
    "\n"
   ]
  },
  {
   "cell_type": "markdown",
   "metadata": {},
   "source": [
    "## Task 4"
   ]
  },
  {
   "cell_type": "code",
   "execution_count": null,
   "metadata": {},
   "outputs": [],
   "source": [
    "number = int(input('Enter a number: '))\n",
    "for i in range(2, number):\n",
    "    if number % i == 0:\n",
    "        print(False)\n",
    "        break\n",
    "else:\n",
    "    print(True)\n"
   ]
  },
  {
   "cell_type": "markdown",
   "metadata": {},
   "source": [
    "## Task 5"
   ]
  },
  {
   "cell_type": "code",
   "execution_count": null,
   "metadata": {},
   "outputs": [],
   "source": [
    "counts = dict()\n",
    "text = input('Enter your text: ')\n",
    "words = text.split()\n",
    "\n",
    "for word in words:\n",
    "    counts[word] = counts.get(word, 0) + 1\n",
    "print('\\n')\n",
    "print(counts)"
   ]
  },
  {
   "cell_type": "markdown",
   "metadata": {},
   "source": [
    "## Task 6"
   ]
  },
  {
   "cell_type": "code",
   "execution_count": null,
   "metadata": {},
   "outputs": [],
   "source": [
    "counts = dict()\n",
    "files = open('file.txt')\n",
    "\n",
    "def readfile(txt):\n",
    "    for file in files.readlines():\n",
    "        file.count(file)\n",
    "\n",
    "def countwords(line):\n",
    "    for word in words:\n",
    "        words = files.split()\n",
    "        counts[word] = counts.get(word, 0) + 1\n",
    "\n",
    "def main(x):\n",
    "    print(f'Count: {x}')\n",
    "if __name__ == '__main__':\n",
    "    main(counts)"
   ]
  }
 ],
 "metadata": {
  "kernelspec": {
   "display_name": "Python 3",
   "language": "python",
   "name": "python3"
  },
  "language_info": {
   "codemirror_mode": {
    "name": "ipython",
    "version": 3
   },
   "file_extension": ".py",
   "mimetype": "text/x-python",
   "name": "python",
   "nbconvert_exporter": "python",
   "pygments_lexer": "ipython3",
   "version": "3.8.5"
  }
 },
 "nbformat": 4,
 "nbformat_minor": 4
}
